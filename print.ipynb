{
 "cells": [
  {
   "cell_type": "code",
   "execution_count": 23,
   "metadata": {},
   "outputs": [
    {
     "name": "stdout",
     "output_type": "stream",
     "text": [
      "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\n"
     ]
    }
   ],
   "source": [
    "import os\n",
    "from dotenv import load_dotenv\n",
    "\n",
    "load_dotenv()\n",
    "api_key = os.getenv(\"OPEN_API_KEY\")\n",
    "\n",
    "print(api_key)"
   ]
  },
  {
   "cell_type": "code",
   "execution_count": 24,
   "metadata": {},
   "outputs": [],
   "source": [
    "from openai import OpenAI\n",
    "\n",
    "client = OpenAI()"
   ]
  },
  {
   "cell_type": "code",
   "execution_count": 25,
   "metadata": {},
   "outputs": [],
   "source": [
    "prompt = \"describe about mild or server situation for user in Korean even though, they typed any language\""
   ]
  },
  {
   "cell_type": "code",
   "execution_count": 26,
   "metadata": {},
   "outputs": [
    {
     "name": "stdout",
     "output_type": "stream",
     "text": [
      "물론입니다! 응급 상황에서는 상황의 심각성을 이해하는 것이 중요합니다. 사용자에게 경미한 상황과 심각한 상황을 설명해 드리겠습니다.\n",
      "\n",
      "**경미한 상황 (Mild Situation)**:\n",
      "- 경미한 상황은 일반적으로 큰 위험이 없는 경우입니다. 예를 들어, 작은 상처가 나거나 가벼운 두통이 있을 때입니다. 이러한 경우에는 집에서 간단한 처치로 해결할 수 있습니다. 얼음찜질이나 약국에서 구입할 수 있는 일반적인 진통제로 증상을 완화할 수 있습니다.\n",
      "\n",
      "**심각한 상황 (Severe Situation)**:\n",
      "- 심각한 상황은 생명에 위협이 될 수 있는 경우입니다. 예를 들어, 심한 출혈, 호흡 곤란, 의식 잃음, 또는 심장 마비와 같은 증상이 있는 경우입니다. 이러한 상황에서는 즉시 응급처치를 실시하고 구급차를 호출해야 합니다. 응급처치가 중요한 이유는 빠른 대응이 생명을 구할 수 있기 때문입니다.\n",
      "\n",
      "상황을 잘 파악하고 적절한 조치를 취하는 것이 중요합니다. 응급 상황일 경우에는 주저하지 말고 도움을 요청하세요."
     ]
    }
   ],
   "source": [
    "stream = client.chat.completions.create(\n",
    "    model=\"gpt-4o-mini\",\n",
    "    messages=[{\"role\": \"user\", \"content\": prompt},\n",
    "              {\"role\":\"system\", \"content\":\"you are a master of First Aid\"}],\n",
    "    stream=True,\n",
    ")\n",
    "for chunk in stream:\n",
    "    if chunk.choices[0].delta.content is not None:\n",
    "        print(chunk.choices[0].delta.content, end=\"\")"
   ]
  },
  {
   "cell_type": "code",
   "execution_count": 27,
   "metadata": {},
   "outputs": [
    {
     "name": "stdout",
     "output_type": "stream",
     "text": [
      "[Choice(delta=ChoiceDelta(content=None, function_call=None, refusal=None, role=None, tool_calls=None), finish_reason='stop', index=0, logprobs=None)]\n"
     ]
    }
   ],
   "source": [
    "print(chunk.choices)"
   ]
  },
  {
   "cell_type": "code",
   "execution_count": 29,
   "metadata": {},
   "outputs": [],
   "source": [
    "model=\"gpt-4o-mini\"\n",
    "messages=[{\"role\": \"system\", \"content\": \"you are a master of First Aid\"},\n",
    "              {\"role\":\"user\", \"content\":prompt}]\n",
    "\n",
    "response = client.chat.completions.create(model =model, messages=messages)"
   ]
  },
  {
   "cell_type": "code",
   "execution_count": 30,
   "metadata": {},
   "outputs": [
    {
     "name": "stdout",
     "output_type": "stream",
     "text": [
      "ChatCompletion(id='chatcmpl-AQwWsTTD3ELDtUywlAgLXEc2U9PIT', choices=[Choice(finish_reason='stop', index=0, logprobs=None, message=ChatCompletionMessage(content='물론입니다! 응급처치에서는 상황의 심각성을 이해하는 것이 중요합니다. \\n\\n**경미한 상황 (Mild Situation):**\\n- 경미한 상황은 일반적으로 크게 위험하지 않으며, 빠르게 회복될 가능성이 높은 경우를 말합니다. 예를 들어, 가벼운 찰과상, 작은 화상, 또는 경미한 알레르기 반응 등이 있습니다. 이러한 경우에는 얼음찜질을 하거나 상처를 깨끗하게 관리를 해주는 것이 도움이 될 수 있습니다.\\n\\n**심각한 상황 (Severe Situation):**\\n- 대조적으로, 심각한 상황은 즉각적인 응급처치가 필요할 수 있습니다. 예를 들어, 심한 출혈, 심장마비, 호흡곤란, 뼈 골절 또는 심각한 알레르기 반응(아나필락시스) 등이 해당됩니다. 이런 경우에는 즉시 119에 전화하여 도움을 요청하고, 필요한 경우 CPR(심폐소생술)을 실시해야 합니다.\\n\\n위험한 상황에 처했을 때, 상황의 심각성을 잘 판단하고 적절한 응급처치를 취하는 것이 매우 중요합니다.', refusal=None, role='assistant', audio=None, function_call=None, tool_calls=None))], created=1730984878, model='gpt-4o-mini-2024-07-18', object='chat.completion', service_tier=None, system_fingerprint='fp_0ba0d124f1', usage=CompletionUsage(completion_tokens=258, prompt_tokens=35, total_tokens=293, completion_tokens_details=CompletionTokensDetails(accepted_prediction_tokens=0, audio_tokens=0, reasoning_tokens=0, rejected_prediction_tokens=0), prompt_tokens_details=PromptTokensDetails(audio_tokens=0, cached_tokens=0)))\n"
     ]
    }
   ],
   "source": [
    "print(response)"
   ]
  },
  {
   "cell_type": "code",
   "execution_count": 32,
   "metadata": {},
   "outputs": [
    {
     "name": "stdout",
     "output_type": "stream",
     "text": [
      "<bound method BaseModel.model_dump_json of ChatCompletion(id='chatcmpl-AQwWsTTD3ELDtUywlAgLXEc2U9PIT', choices=[Choice(finish_reason='stop', index=0, logprobs=None, message=ChatCompletionMessage(content='물론입니다! 응급처치에서는 상황의 심각성을 이해하는 것이 중요합니다. \\n\\n**경미한 상황 (Mild Situation):**\\n- 경미한 상황은 일반적으로 크게 위험하지 않으며, 빠르게 회복될 가능성이 높은 경우를 말합니다. 예를 들어, 가벼운 찰과상, 작은 화상, 또는 경미한 알레르기 반응 등이 있습니다. 이러한 경우에는 얼음찜질을 하거나 상처를 깨끗하게 관리를 해주는 것이 도움이 될 수 있습니다.\\n\\n**심각한 상황 (Severe Situation):**\\n- 대조적으로, 심각한 상황은 즉각적인 응급처치가 필요할 수 있습니다. 예를 들어, 심한 출혈, 심장마비, 호흡곤란, 뼈 골절 또는 심각한 알레르기 반응(아나필락시스) 등이 해당됩니다. 이런 경우에는 즉시 119에 전화하여 도움을 요청하고, 필요한 경우 CPR(심폐소생술)을 실시해야 합니다.\\n\\n위험한 상황에 처했을 때, 상황의 심각성을 잘 판단하고 적절한 응급처치를 취하는 것이 매우 중요합니다.', refusal=None, role='assistant', audio=None, function_call=None, tool_calls=None))], created=1730984878, model='gpt-4o-mini-2024-07-18', object='chat.completion', service_tier=None, system_fingerprint='fp_0ba0d124f1', usage=CompletionUsage(completion_tokens=258, prompt_tokens=35, total_tokens=293, completion_tokens_details=CompletionTokensDetails(accepted_prediction_tokens=0, audio_tokens=0, reasoning_tokens=0, rejected_prediction_tokens=0), prompt_tokens_details=PromptTokensDetails(audio_tokens=0, cached_tokens=0)))>\n"
     ]
    }
   ],
   "source": [
    "print(response.model_dump_json)"
   ]
  },
  {
   "cell_type": "code",
   "execution_count": 33,
   "metadata": {},
   "outputs": [
    {
     "name": "stdout",
     "output_type": "stream",
     "text": [
      "물론입니다! 응급처치에서는 상황의 심각성을 이해하는 것이 중요합니다. \n",
      "\n",
      "**경미한 상황 (Mild Situation):**\n",
      "- 경미한 상황은 일반적으로 크게 위험하지 않으며, 빠르게 회복될 가능성이 높은 경우를 말합니다. 예를 들어, 가벼운 찰과상, 작은 화상, 또는 경미한 알레르기 반응 등이 있습니다. 이러한 경우에는 얼음찜질을 하거나 상처를 깨끗하게 관리를 해주는 것이 도움이 될 수 있습니다.\n",
      "\n",
      "**심각한 상황 (Severe Situation):**\n",
      "- 대조적으로, 심각한 상황은 즉각적인 응급처치가 필요할 수 있습니다. 예를 들어, 심한 출혈, 심장마비, 호흡곤란, 뼈 골절 또는 심각한 알레르기 반응(아나필락시스) 등이 해당됩니다. 이런 경우에는 즉시 119에 전화하여 도움을 요청하고, 필요한 경우 CPR(심폐소생술)을 실시해야 합니다.\n",
      "\n",
      "위험한 상황에 처했을 때, 상황의 심각성을 잘 판단하고 적절한 응급처치를 취하는 것이 매우 중요합니다.\n"
     ]
    }
   ],
   "source": [
    "print(response.choices[0].message.content)"
   ]
  },
  {
   "cell_type": "code",
   "execution_count": null,
   "metadata": {},
   "outputs": [],
   "source": []
  }
 ],
 "metadata": {
  "kernelspec": {
   "display_name": "Python 3",
   "language": "python",
   "name": "python3"
  },
  "language_info": {
   "codemirror_mode": {
    "name": "ipython",
    "version": 3
   },
   "file_extension": ".py",
   "mimetype": "text/x-python",
   "name": "python",
   "nbconvert_exporter": "python",
   "pygments_lexer": "ipython3",
   "version": "3.11.10"
  }
 },
 "nbformat": 4,
 "nbformat_minor": 2
}
