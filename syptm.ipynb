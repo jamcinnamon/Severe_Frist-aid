{
 "cells": [
  {
   "cell_type": "code",
   "execution_count": null,
   "metadata": {},
   "outputs": [],
   "source": [
    "import os\n",
    "from openai import OpenAI\n",
    "import requests\n",
    "from bs4 import BeautifulSoup\n",
    "\n",
    "# OpenAI client API 로 연결, dotenv가 갑자기 안되기 시작해서 프로젝트도 함께 연결.\n",
    "client = OpenAI(\n",
    "  organization=',\n",
    ")\n",
    "\n",
    "\n",
    "\n",
    "\n"
   ]
  },
  {
   "cell_type": "markdown",
   "metadata": {},
   "source": [
    "### 응급상황 아티클 크롤링\n",
    "#### 최적화 및 자료 수집 크롤링이 잘 되면 한글 번역 후 자료 사용 예정"
   ]
  },
  {
   "cell_type": "code",
   "execution_count": 67,
   "metadata": {},
   "outputs": [
    {
     "name": "stdout",
     "output_type": "stream",
     "text": [
      "<openai.OpenAI object at 0x10d25f390>\n"
     ]
    }
   ],
   "source": [
    "url = 'https://www.webmd.com/first-aid/ss/slideshow-when-call-911'\n",
    "headers = {\n",
    "    'user-agent':'Mozilla/5.0 (Macintosh; Intel Mac OS X 10_15_7) AppleWebKit/537.36 (KHTML, like Gecko) Chrome/130.0.0.0 Safari/537.36'\n",
    "}\n",
    "req = requests.get(url, headers=headers)\n",
    "req.encoding = 'utf-8'\n",
    "soup = BeautifulSoup(req.text, 'html.parser')\n",
    "\n",
    "print(client)"
   ]
  },
  {
   "cell_type": "markdown",
   "metadata": {},
   "source": [
    "#### 잘 되는지 확인을 위한 작업. 주제목 가져오기"
   ]
  },
  {
   "cell_type": "code",
   "execution_count": null,
   "metadata": {},
   "outputs": [
    {
     "name": "stdout",
     "output_type": "stream",
     "text": [
      "<header class=\"page-header\"><!-- --><h1>When to Call 911: Serious Symptoms to Never Ignore</h1></header>\n"
     ]
    }
   ],
   "source": [
    "title = soup.select_one('div.ss-inner-container > header')"
   ]
  },
  {
   "cell_type": "markdown",
   "metadata": {},
   "source": [
    "#### 부제목들 하나씩 가져오기 위해 테스트\n",
    "질문하기 soup. 이 아니고 하나의 변수로 잡은 상태에서 셀렉트 방법 여쭤보기"
   ]
  },
  {
   "cell_type": "code",
   "execution_count": 68,
   "metadata": {},
   "outputs": [],
   "source": [
    "subheads = soup.select('div.content-section > header.slide-header')\n",
    "\n",
    "page = soup.select('div.vss-container div.content-section >div.caption > p')[0].text\n"
   ]
  },
  {
   "cell_type": "markdown",
   "metadata": {},
   "source": [
    "부제목 처음부터, 10, 16번째 확인"
   ]
  },
  {
   "cell_type": "code",
   "execution_count": 50,
   "metadata": {},
   "outputs": [
    {
     "name": "stdout",
     "output_type": "stream",
     "text": [
      "Trust Your Gut\n",
      "Confusion or Trouble Speaking\n"
     ]
    }
   ],
   "source": [
    "print(subhead)\n",
    "print(soup.select('div.content-section > header.slide-header')[11].text)"
   ]
  },
  {
   "cell_type": "code",
   "execution_count": 36,
   "metadata": {},
   "outputs": [
    {
     "name": "stdout",
     "output_type": "stream",
     "text": [
      "Special Case: Blood-Thinning Medications\n"
     ]
    }
   ],
   "source": [
    "print(soup.select('div.content-section > header.slide-header')[15].text)"
   ]
  },
  {
   "cell_type": "markdown",
   "metadata": {},
   "source": [
    "본문 div 첫 문단"
   ]
  },
  {
   "cell_type": "code",
   "execution_count": 23,
   "metadata": {},
   "outputs": [
    {
     "name": "stdout",
     "output_type": "stream",
     "text": [
      "One of your most powerful toolsÂ is your own observation. Most of us have a sense for when a situation is dangerous. If your instinct or intuition tells you itâs serious, call 911 or go to the nearest emergency room. Itâs always better to err on the side of caution when it comes to your health.\n"
     ]
    }
   ],
   "source": [
    "print(page)"
   ]
  },
  {
   "cell_type": "code",
   "execution_count": 92,
   "metadata": {},
   "outputs": [
    {
     "name": "stdout",
     "output_type": "stream",
     "text": [
      "Trust Your Gut\n",
      "Chest Pain\n",
      "Shortness of Breath\n",
      "Vision Problems\n",
      "Burns\n",
      "Vomiting\n",
      "Head Injury\n",
      "Deep Cuts\n",
      "Stomach Pain\n",
      "Testicular Pain or Swelling\n",
      "High Fever\n",
      "Confusion or Trouble Speaking\n",
      "Broken Bones\n",
      "Seizure\n",
      "Vaginal Bleeding During Pregnancy\n",
      "Special Case: Blood-Thinning Medications\n"
     ]
    }
   ],
   "source": [
    "for i in range(0, 16, 1):\n",
    "    subhead = subheads[i]\n",
    "    print(subhead.text)\n",
    "    # i += 1\n"
   ]
  },
  {
   "cell_type": "code",
   "execution_count": 89,
   "metadata": {},
   "outputs": [
    {
     "name": "stdout",
     "output_type": "stream",
     "text": [
      "1\n"
     ]
    }
   ],
   "source": [
    "print(len(subhead))"
   ]
  },
  {
   "cell_type": "code",
   "execution_count": null,
   "metadata": {},
   "outputs": [
    {
     "name": "stdout",
     "output_type": "stream",
     "text": [
      "One of your most powerful tools is your own observation. Most of us have a sense for when a situation is dangerous. If your instinct or intuition tells you it’s serious, call 119 or go to the nearest emergency room. It’s always better to err on the side of caution when it comes to your health.\n",
      "If you have chest pain or pressure that lasts more than a couple of minutes, or if it comes back, it’s time to call 119. You shouldn’t try to drive yourself or a loved one with these symptoms. The ambulance has special equipment and trained people who can help you more quickly.\n",
      "If it happens suddenly and is keeping you from your everyday activities, have someone drive you to the emergency room. Call 119 if it’s severe or if you also have nausea or chest pain or you pass out. You could be having a heart attack or pulmonary embolism (a blood clot in your lung).\n",
      "Call 119 if you suddenly have blurry vision, double vision, or loss of vision. That can be a sign of stroke or other serious illness. You also should call 119 if you have trouble seeing and have a bad headache, nausea or vomiting, numbness, weakness, dizziness, confusion, or trouble talking. If you have severe pain or irritation in your eyes, get emergency care as soon as possible.\n",
      "You can usually treat a minor first-degree burn -- redness, swelling, and pain in the first layer of skin -- at home. But get to the emergency room if the burn is on a large part of your hands or on your feet, face, buttocks, groins, or one of your big joints, like your knees or elbows. Also get emergency medical attention if you have blisters, splotchy skin (second-degree burn), or if it’s bigger than 3 inches or charred or white (third-degree burn).\n",
      "You should go to the emergency room if there’s blood in the vomit or you have other symptoms, like severe headache or abdominal pain, confusion, or fast breathing or heart rate. A child younger than 6 should be seen right away if vomiting lasts more than a few hours or they have any signs of dehydration. Kids over 6 and adults should see a doctor if the vomiting lasts longer than a day or they have a high fever (over 101 F for adults and 102 F for kids).\n",
      "A bump on the head can be serious and need immediate medical care if you pass out, have a seizure, or have a headache that won’t go away, persistent vomiting or nausea, slurred speech, or you feel confused, weak, numb, or less coordinated.\n",
      "If you can see yellow fatty tissue under the first layer of skin, you should get to the emergency room. It will need quick attention if it won’t close or if it’s on your face, neck, genitals, or across a joint. You should also go if you were bitten by a person or animal, cut with a dirty or rusty object, or you’re bleeding badly or have a foreign object stuck in the cut.\n",
      "If it lasts more than 30 minutes -- especially if it’s sudden and intense -- you should seek emergency medical care. Pain that doesn’t get better or happens with vomiting could be something serious like an inflamed appendix, which may need to come out very quickly.\n",
      "This can be caused by an injury or infection, but it also can be a sign of serious problems in your abdomen. Get immediate care if the pain is severe or comes on quickly, or you have nausea, vomiting, fever, or feel a lump in your scrotum. The same is true if you still have pain an hour after an injury or your scrotum is red or swollen.\n",
      "If a baby younger than 3 months old has a temperature of more than 100.4 F, they need to be seen right away. This is also true for a child between 3 months and 3 years old with a fever of 102.2 F and an adult who has a fever of 104 F or higher. \n",
      "These are two of the most common symptoms of stroke. Don’t take any chances -- call 119 right away. Your treatment and recovery depend a lot on how fast you get medical care. Other stroke symptoms may include sudden problems walking or balancing, intense headache, drooping on one side of your face, and numbness or weakness on one side of your body.\n",
      "If you think you have a broken bone, see a doctor as soon as possible. It’s an emergency situation if a bone pierces your skin, or if the injured body part looks deformed or is numb or bluish. This also applies if the bone is in your neck, head, or back, or there’s heavy bleeding.\n",
      "If you’ve never had one before, are pregnant, or have diabetes, a seizure calls for emergency medical care. If you know you have a condition that causes seizures, follow your doctor’s orders. But call your doctor if you start to have more seizures or have other symptoms along with them.\n",
      "It’s not always a sign of something serious, particularly spotting or light bleeding in the first trimester, but you should note your symptoms and call your doctor. Get medical care right away if you have heavy bleeding or you also have cramping, dizziness, or pain in your belly or pelvis. \n",
      "Even a minor injury can be serious if you take blood thinners. Call 119 if you have an injury and your heart rate or breathing becomes fast or you have trouble breathing, a headache, or feel sleepy, faint, or dizzy. Also, bruises that get larger or more painful may be a sign of internal bleeding and mean you should get emergency care.\n"
     ]
    }
   ],
   "source": [
    "page = soup.select('div.vss-container div.content-section >div.caption > p')\n",
    "n=0\n",
    "content = page[n]\n",
    "for n in range(0, 16):\n",
    "    content = page[n]\n",
    "    content_text = content.text.replace('911', '119')\n",
    "    print(content_text)\n",
    "    \n"
   ]
  },
  {
   "cell_type": "code",
   "execution_count": 97,
   "metadata": {},
   "outputs": [],
   "source": [
    "data_list = []\n",
    "subtitle = ['Trust Your Gut',\n",
    "'Chest Pain',\n",
    "'Shortness of Breath',\n",
    "'Vision Problems',\n",
    "'Burns',\n",
    "'Vomiting',\n",
    "'Head Injury',\n",
    "'Deep Cuts',\n",
    "'Stomach Pain',\n",
    "'Testicular Pain or Swelling',\n",
    "'High Fever',\n",
    "'Confusion or Trouble Speaking',\n",
    "'Broken Bones',\n",
    "'Seizure',\n",
    "'Vaginal Bleeding During Pregnancy',\n",
    "'Special Case: Blood-Thinning Medications'\n",
    "]\n",
    "content_sub = ['One of your most powerful tools is your own observation. Most of us have a sense for when a situation is dangerous. If your instinct or intuition tells you it’s serious, call 119 or go to the nearest emergency room. It’s always better to err on the side of caution when it comes to your health',\n",
    "'If you have chest pain or pressure that lasts more than a couple of minutes, or if it comes back, it’s time to call 119. You shouldn’t try to drive yourself or a loved one with these symptoms. The ambulance has special equipment and trained people who can help you more quickly',\n",
    "'If it happens suddenly and is keeping you from your everyday activities, have someone drive you to the emergency room. Call 119 if it’s severe or if you also have nausea or chest pain or you pass out. You could be having a heart attack or pulmonary embolism (a blood clot in your lung)',\n",
    "'Call 119 if you suddenly have blurry vision, double vision, or loss of vision. That can be a sign of stroke or other serious illness. You also should call 119 if you have trouble seeing and have a bad headache, nausea or vomiting, numbness, weakness, dizziness, confusion, or trouble talking. If you have severe pain or irritation in your eyes, get emergency care as soon as possible',\n",
    "'You can usually treat a minor first-degree burn -- redness, swelling, and pain in the first layer of skin -- at home. But get to the emergency room if the burn is on a large part of your hands or on your feet, face, buttocks, groins, or one of your big joints, like your knees or elbows. Also get emergency medical attention if you have blisters, splotchy skin (second-degree burn), or if it’s bigger than 3 inches or charred or white (third-degree burn)',\n",
    "'You should go to the emergency room if there’s blood in the vomit or you have other symptoms, like severe headache or abdominal pain, confusion, or fast breathing or heart rate. A child younger than 6 should be seen right away if vomiting lasts more than a few hours or they have any signs of dehydration. Kids over 6 and adults should see a doctor if the vomiting lasts longer than a day or they have a high fever (over 101 F for adults and 102 F for kids)',\n",
    "'A bump on the head can be serious and need immediate medical care if you pass out, have a seizure, or have a headache that won’t go away, persistent vomiting or nausea, slurred speech, or you feel confused, weak, numb, or less coordinated',\n",
    "'If you can see yellow fatty tissue under the first layer of skin, you should get to the emergency room. It will need quick attention if it won’t close or if it’s on your face, neck, genitals, or across a joint. You should also go if you were bitten by a person or animal, cut with a dirty or rusty object, or you’re bleeding badly or have a foreign object stuck in the cut',\n",
    "'If it lasts more than 30 minutes -- especially if it’s sudden and intense -- you should seek emergency medical care. Pain that doesn’t get better or happens with vomiting could be something serious like an inflamed appendix, which may need to come out very quickly',\n",
    "'This can be caused by an injury or infection, but it also can be a sign of serious problems in your abdomen. Get immediate care if the pain is severe or comes on quickly, or you have nausea, vomiting, fever, or feel a lump in your scrotum. The same is true if you still have pain an hour after an injury or your scrotum is red or swollen',\n",
    "'If a baby younger than 3 months old has a temperature of more than 100.4 F, they need to be seen right away. This is also true for a child between 3 months and 3 years old with a fever of 102.2 F and an adult who has a fever of 104 F or higher',\n",
    "'These are two of the most common symptoms of stroke. Don’t take any chances -- call 119 right away. Your treatment and recovery depend a lot on how fast you get medical care. Other stroke symptoms may include sudden problems walking or balancing, intense headache, drooping on one side of your face, and numbness or weakness on one side of your body',\n",
    "'If you think you have a broken bone, see a doctor as soon as possible. It’s an emergency situation if a bone pierces your skin, or if the injured body part looks deformed or is numb or bluish. This also applies if the bone is in your neck, head, or back, or there’s heavy bleeding',\n",
    "'If you’ve never had one before, are pregnant, or have diabetes, a seizure calls for emergency medical care. If you know you have a condition that causes seizures, follow your doctor’s orders. But call your doctor if you start to have more seizures or have other symptoms along with them',\n",
    "'It’s not always a sign of something serious, particularly spotting or light bleeding in the first trimester, but you should note your symptoms and call your doctor. Get medical care right away if you have heavy bleeding or you also have cramping, dizziness, or pain in your belly or pelvis',\n",
    "'Even a minor injury can be serious if you take blood thinners. Call 119 if you have an injury and your heart rate or breathing becomes fast or you have trouble breathing, a headache, or feel sleepy, faint, or dizzy. Also, bruises that get larger or more painful may be a sign of internal bleeding and mean you should get emergency care']"
   ]
  },
  {
   "cell_type": "code",
   "execution_count": 98,
   "metadata": {},
   "outputs": [
    {
     "name": "stdout",
     "output_type": "stream",
     "text": [
      "16\n",
      "16\n"
     ]
    }
   ],
   "source": [
    "print(len(subtitle))\n",
    "print(len(content_sub))"
   ]
  },
  {
   "cell_type": "code",
   "execution_count": 117,
   "metadata": {},
   "outputs": [
    {
     "name": "stdout",
     "output_type": "stream",
     "text": [
      "<class 'list'>\n",
      "<class 'list'>\n"
     ]
    }
   ],
   "source": [
    "print(type(subtitle))\n",
    "print(type(content_sub))\n"
   ]
  },
  {
   "cell_type": "code",
   "execution_count": 128,
   "metadata": {},
   "outputs": [
    {
     "name": "stdout",
     "output_type": "stream",
     "text": [
      "[{'subtitle': 'Trust Your Gut', 'content': 'One of your most powerful tools is your own observation. Most of us have a sense for when a situation is dangerous. If your instinct or intuition tells you it’s serious, call 119 or go to the nearest emergency room. It’s always better to err on the side of caution when it comes to your health'}, {'subtitle': 'Chest Pain', 'content': 'If you have chest pain or pressure that lasts more than a couple of minutes, or if it comes back, it’s time to call 119. You shouldn’t try to drive yourself or a loved one with these symptoms. The ambulance has special equipment and trained people who can help you more quickly'}, {'subtitle': 'Shortness of Breath', 'content': 'If it happens suddenly and is keeping you from your everyday activities, have someone drive you to the emergency room. Call 119 if it’s severe or if you also have nausea or chest pain or you pass out. You could be having a heart attack or pulmonary embolism (a blood clot in your lung)'}, {'subtitle': 'Vision Problems', 'content': 'Call 119 if you suddenly have blurry vision, double vision, or loss of vision. That can be a sign of stroke or other serious illness. You also should call 119 if you have trouble seeing and have a bad headache, nausea or vomiting, numbness, weakness, dizziness, confusion, or trouble talking. If you have severe pain or irritation in your eyes, get emergency care as soon as possible'}, {'subtitle': 'Burns', 'content': 'You can usually treat a minor first-degree burn -- redness, swelling, and pain in the first layer of skin -- at home. But get to the emergency room if the burn is on a large part of your hands or on your feet, face, buttocks, groins, or one of your big joints, like your knees or elbows. Also get emergency medical attention if you have blisters, splotchy skin (second-degree burn), or if it’s bigger than 3 inches or charred or white (third-degree burn)'}, {'subtitle': 'Vomiting', 'content': 'You should go to the emergency room if there’s blood in the vomit or you have other symptoms, like severe headache or abdominal pain, confusion, or fast breathing or heart rate. A child younger than 6 should be seen right away if vomiting lasts more than a few hours or they have any signs of dehydration. Kids over 6 and adults should see a doctor if the vomiting lasts longer than a day or they have a high fever (over 101 F for adults and 102 F for kids)'}, {'subtitle': 'Head Injury', 'content': 'A bump on the head can be serious and need immediate medical care if you pass out, have a seizure, or have a headache that won’t go away, persistent vomiting or nausea, slurred speech, or you feel confused, weak, numb, or less coordinated'}, {'subtitle': 'Deep Cuts', 'content': 'If you can see yellow fatty tissue under the first layer of skin, you should get to the emergency room. It will need quick attention if it won’t close or if it’s on your face, neck, genitals, or across a joint. You should also go if you were bitten by a person or animal, cut with a dirty or rusty object, or you’re bleeding badly or have a foreign object stuck in the cut'}, {'subtitle': 'Stomach Pain', 'content': 'If it lasts more than 30 minutes -- especially if it’s sudden and intense -- you should seek emergency medical care. Pain that doesn’t get better or happens with vomiting could be something serious like an inflamed appendix, which may need to come out very quickly'}, {'subtitle': 'Testicular Pain or Swelling', 'content': 'This can be caused by an injury or infection, but it also can be a sign of serious problems in your abdomen. Get immediate care if the pain is severe or comes on quickly, or you have nausea, vomiting, fever, or feel a lump in your scrotum. The same is true if you still have pain an hour after an injury or your scrotum is red or swollen'}, {'subtitle': 'High Fever', 'content': 'If a baby younger than 3 months old has a temperature of more than 100.4 F, they need to be seen right away. This is also true for a child between 3 months and 3 years old with a fever of 102.2 F and an adult who has a fever of 104 F or higher'}, {'subtitle': 'Confusion or Trouble Speaking', 'content': 'These are two of the most common symptoms of stroke. Don’t take any chances -- call 119 right away. Your treatment and recovery depend a lot on how fast you get medical care. Other stroke symptoms may include sudden problems walking or balancing, intense headache, drooping on one side of your face, and numbness or weakness on one side of your body'}, {'subtitle': 'Broken Bones', 'content': 'If you think you have a broken bone, see a doctor as soon as possible. It’s an emergency situation if a bone pierces your skin, or if the injured body part looks deformed or is numb or bluish. This also applies if the bone is in your neck, head, or back, or there’s heavy bleeding'}, {'subtitle': 'Seizure', 'content': 'If you’ve never had one before, are pregnant, or have diabetes, a seizure calls for emergency medical care. If you know you have a condition that causes seizures, follow your doctor’s orders. But call your doctor if you start to have more seizures or have other symptoms along with them'}, {'subtitle': 'Vaginal Bleeding During Pregnancy', 'content': 'It’s not always a sign of something serious, particularly spotting or light bleeding in the first trimester, but you should note your symptoms and call your doctor. Get medical care right away if you have heavy bleeding or you also have cramping, dizziness, or pain in your belly or pelvis'}, {'subtitle': 'Special Case: Blood-Thinning Medications', 'content': 'Even a minor injury can be serious if you take blood thinners. Call 119 if you have an injury and your heart rate or breathing becomes fast or you have trouble breathing, a headache, or feel sleepy, faint, or dizzy. Also, bruises that get larger or more painful may be a sign of internal bleeding and mean you should get emergency care'}]\n"
     ]
    }
   ],
   "source": [
    "lit= []\n",
    "# lit.append(subtitle[0])\n",
    "# lit.append(content_sub[0])\n",
    "# print(lit)\n",
    "for a, b in zip(subtitle, content_sub):\n",
    "    lit.append({\"subtitle\": a, \"content\": b})\n",
    "print(lit)\n",
    "   \n",
    "            "
   ]
  },
  {
   "cell_type": "markdown",
   "metadata": {},
   "source": []
  },
  {
   "cell_type": "code",
   "execution_count": 108,
   "metadata": {},
   "outputs": [],
   "source": [
    "prompt = \"\"\"\n",
    "    화씨 (F)는 우리나라에 맞게 고쳐서 섭씨 (C)로 나타내고 영어 본문 데이터를 갖고와 쓸 때는 한국어로 가져와 주세요.\n",
    "\"\"\""
   ]
  },
  {
   "cell_type": "code",
   "execution_count": 129,
   "metadata": {},
   "outputs": [],
   "source": [
    "import json\n",
    "\n",
    "with open(\"data.json\", \"w\", encoding='utf-8') as f:\n",
    "    json.dump(lit, f, ensure_ascii=False, indent=4)"
   ]
  }
 ],
 "metadata": {
  "kernelspec": {
   "display_name": "Python 3",
   "language": "python",
   "name": "python3"
  },
  "language_info": {
   "codemirror_mode": {
    "name": "ipython",
    "version": 3
   },
   "file_extension": ".py",
   "mimetype": "text/x-python",
   "name": "python",
   "nbconvert_exporter": "python",
   "pygments_lexer": "ipython3",
   "version": "3.11.10"
  }
 },
 "nbformat": 4,
 "nbformat_minor": 2
}
